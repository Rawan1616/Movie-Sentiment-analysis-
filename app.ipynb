{
 "cells": [
  {
   "cell_type": "code",
   "execution_count": 1,
   "id": "bc73a7c2-b937-4639-aee4-9d69839fb8d0",
   "metadata": {},
   "outputs": [],
   "source": [
    "import gradio as gr\n",
    "import numpy as np\n",
    "from tensorflow.keras.models import load_model\n",
    "from tensorflow.keras.preprocessing.sequence import pad_sequences\n",
    "import pickle"
   ]
  },
  {
   "cell_type": "code",
   "execution_count": 2,
   "id": "cc75fb7e-0cba-4cd1-b9e8-3698bb2f9b7f",
   "metadata": {},
   "outputs": [],
   "source": [
    "try:\n",
    "    with open(\"tokenizer.pkl\", \"rb\") as handle:\n",
    "        tokenizer = pickle.load(handle)\n",
    "    model = load_model(\"best_model.keras\")\n",
    "    max_len = 1128\n",
    "except Exception as e:\n",
    "    print(f\"Error loading model or tokenizer: {e}\")\n",
    "    tokenizer = None\n",
    "    model = None"
   ]
  },
  {
   "cell_type": "code",
   "execution_count": 4,
   "id": "4e59ec96-dd06-40ae-b529-e1b3802f11c2",
   "metadata": {},
   "outputs": [],
   "source": [
    "def predict_sentiment(text):\n",
    "    try:\n",
    "        if not tokenizer or not model:\n",
    "            return \"Error: Model or Tokenizer not loaded properly.\"\n",
    "        \n",
    "        sequence = tokenizer.texts_to_sequences([text])\n",
    "        padded_sequence = pad_sequences(sequence, maxlen=max_len, padding='pre')\n",
    "        prediction = model.predict(padded_sequence)[0]\n",
    "        sentiment = \"POSITIVE\" if prediction[1] > 0.5 else \"NEGATIVE\"\n",
    "        return sentiment  # لازم تبقى جوة الـ try block\n",
    "    except Exception as e:\n",
    "        return f\"Error in prediction: {e}\""
   ]
  },
  {
   "cell_type": "code",
   "execution_count": 8,
   "id": "271ce60e-caf2-4f89-af60-bbfcab808f90",
   "metadata": {},
   "outputs": [],
   "source": [
    "interface = gr.Interface(fn=predict_sentiment, inputs=\"text\", outputs=\"text\")"
   ]
  },
  {
   "cell_type": "code",
   "execution_count": 10,
   "id": "359a2c48-a37a-4078-8b65-9efef8b8d416",
   "metadata": {},
   "outputs": [
    {
     "name": "stdout",
     "output_type": "stream",
     "text": [
      "* Running on local URL:  http://127.0.0.1:7860\n",
      "\n",
      "To create a public link, set `share=True` in `launch()`.\n"
     ]
    },
    {
     "data": {
      "text/html": [
       "<div><iframe src=\"http://127.0.0.1:7860/\" width=\"100%\" height=\"500\" allow=\"autoplay; camera; microphone; clipboard-read; clipboard-write;\" frameborder=\"0\" allowfullscreen></iframe></div>"
      ],
      "text/plain": [
       "<IPython.core.display.HTML object>"
      ]
     },
     "metadata": {},
     "output_type": "display_data"
    }
   ],
   "source": [
    "try:\n",
    "    interface.launch()\n",
    "except Exception as e:\n",
    "    print(f\"Error launching Gradio interface: {e}\")"
   ]
  },
  {
   "cell_type": "code",
   "execution_count": null,
   "id": "051aed90-0ebc-44cd-89b4-20d3c52a01e9",
   "metadata": {},
   "outputs": [],
   "source": []
  }
 ],
 "metadata": {
  "kernelspec": {
   "display_name": "Python 3 (ipykernel)",
   "language": "python",
   "name": "python3"
  },
  "language_info": {
   "codemirror_mode": {
    "name": "ipython",
    "version": 3
   },
   "file_extension": ".py",
   "mimetype": "text/x-python",
   "name": "python",
   "nbconvert_exporter": "python",
   "pygments_lexer": "ipython3",
   "version": "3.12.7"
  }
 },
 "nbformat": 4,
 "nbformat_minor": 5
}
